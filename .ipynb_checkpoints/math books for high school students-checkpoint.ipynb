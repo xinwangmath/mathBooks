{
 "cells": [
  {
   "cell_type": "markdown",
   "metadata": {},
   "source": [
    "# Thirty-three Miniatures: mathematical and algorithmic application of linear algebra\n",
    "## By Jiri Matousek\n",
    "\n",
    "<img src=\"33mini.jpg\" alt=\"Drawing\" style=\"width: 300px;\"/> <img src=\"33mini2.jpg\" alt=\"Drawing\" style=\"width: 300px;\"/>\n",
    "<img src=\"33mini3.jpg\" alt=\"Drawing\" style=\"width: 300px;\"/>\n",
    "\n",
    "这本书只需要学过一点线性代数就可以读。讲了不少有意思的题目：比如快速计算斐波那契数列、错误矫正码等，还讲了一些离目前研究比较近的题目，如Kakeya needle problem、用特征向量划分图等。读起来不难，而且能引起人对这些研究题目的兴趣。\n",
    "\n"
   ]
  },
  {
   "cell_type": "markdown",
   "metadata": {},
   "source": [
    "# The Joy of Factoring\n",
    "## By Samuel S. Wagstaff, Jr\n",
    "\n",
    "<img src=\"joy.jpg\" alt=\"Drawing\" style=\"width: 300px;\"/>\n",
    "这本书讲数论和数论的应用，也只需要知道一点代数和解析几何就可以读。书里从辗转相除法开始，讲了一些分解素数的方法，后面还讲到了椭圆曲线和椭圆曲线用于素数分解以及密码学，还提到了一些筛法的基础（筛法用了从自然数里找出素数）。读起来不太难，而且讲得还挺深的。"
   ]
  },
  {
   "cell_type": "markdown",
   "metadata": {},
   "source": [
    "# The Mathematical Mechanic: Using Physical Reasoning to Solve Problems\n",
    "## By Mark Levi\n",
    "\n",
    "<img src=\"mathmech.jpg\" alt=\"Drawing\" style=\"width: 300px;\"/>\n",
    "\n",
    "这本书也只需要高中的数学和物理知识。书里主要是用物理方法来说明和证明数学定理：比如用自行车轮子的受力证明高斯-博内公式、用热传导方程证明黎曼映射定理。总之有好多有意思的数学和物理的联系。"
   ]
  },
  {
   "cell_type": "code",
   "execution_count": null,
   "metadata": {
    "collapsed": true
   },
   "outputs": [],
   "source": []
  }
 ],
 "metadata": {
  "kernelspec": {
   "display_name": "Python 2",
   "language": "python",
   "name": "python2"
  },
  "language_info": {
   "codemirror_mode": {
    "name": "ipython",
    "version": 2
   },
   "file_extension": ".py",
   "mimetype": "text/x-python",
   "name": "python",
   "nbconvert_exporter": "python",
   "pygments_lexer": "ipython2",
   "version": "2.7.11"
  }
 },
 "nbformat": 4,
 "nbformat_minor": 0
}
